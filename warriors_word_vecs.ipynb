{
 "cells": [
  {
   "cell_type": "code",
   "execution_count": 1,
   "metadata": {
    "collapsed": true
   },
   "outputs": [],
   "source": [
    "# Import standard libraries\n",
    "from __future__ import absolute_import, division, print_function\n",
    "\n",
    "import codecs # for word encoding\n",
    "import glob # for regular expressions\n",
    "import multiprocessing # concurrency\n",
    "import os # os stuff, like reading a file\n",
    "import pprint # pretty printing\n",
    "import re # regular expressions\n"
   ]
  },
  {
   "cell_type": "code",
   "execution_count": 2,
   "metadata": {
    "collapsed": false
   },
   "outputs": [],
   "source": [
    "# Import external libraries\n",
    "import nltk # natural language procession\n",
    "import gensim.models.word2vec as w2v # word 2 vec\n",
    "import sklearn.manifold #dimensionality reduction\n",
    "import numpy as np # math\n",
    "import matplotlib.pyplot as plt # plotting\n",
    "import pandas as pd\n",
    "import seaborn as sns"
   ]
  },
  {
   "cell_type": "code",
   "execution_count": 3,
   "metadata": {
    "collapsed": false
   },
   "outputs": [
    {
     "name": "stdout",
     "output_type": "stream",
     "text": [
      "[nltk_data] Downloading package punkt to\n",
      "[nltk_data]     /Users/bergsfamily/nltk_data...\n",
      "[nltk_data]   Package punkt is already up-to-date!\n",
      "[nltk_data] Downloading package stopwords to\n",
      "[nltk_data]     /Users/bergsfamily/nltk_data...\n",
      "[nltk_data]   Package stopwords is already up-to-date!\n"
     ]
    },
    {
     "data": {
      "text/plain": [
       "True"
      ]
     },
     "execution_count": 3,
     "metadata": {},
     "output_type": "execute_result"
    }
   ],
   "source": [
    "# Step 1 - process the data\n",
    "# clean data\n",
    "\n",
    "nltk.download('punkt') # pretrained tokenizer\n",
    "nltk.download('stopwords') # words like and, the, a, an, of"
   ]
  },
  {
   "cell_type": "code",
   "execution_count": 4,
   "metadata": {
    "collapsed": false
   },
   "outputs": [
    {
     "data": {
      "text/plain": [
       "['data_war/A Dangerous Path - Erin Hunter.txt',\n",
       " \"data_war/Bluestar's Prophecy - Erin Hunter.txt\",\n",
       " 'data_war/Dark River - Erin Hunter.txt',\n",
       " 'data_war/Dawn - Erin Hunter.txt',\n",
       " 'data_war/Eclipse - Erin Hunter.txt',\n",
       " 'data_war/Fading Echoes - Erin Hunter.txt',\n",
       " 'data_war/Fire and Ice - Erin Hunter.txt',\n",
       " 'data_war/Fire in the Sky - Erin Hunter.txt',\n",
       " 'data_war/Forest of Secrets - Erin Hunter.txt',\n",
       " 'data_war/Into the Wild - Erin Hunter.txt',\n",
       " 'data_war/Long Shadows - Erin Hunter.txt',\n",
       " 'data_war/Midnight - Erin Hunter.txt',\n",
       " 'data_war/Moonrise - Erin Hunter.txt',\n",
       " 'data_war/Night Whispers - Erin Hunter.txt',\n",
       " 'data_war/Outcast - Erin Hunter.txt',\n",
       " 'data_war/Rising Storm - Erin Hunter.txt',\n",
       " 'data_war/Seekers #2_ Great Bear Lake - Erin Hunter.txt',\n",
       " 'data_war/Seekers #3_ Smoke Mountain - Erin Hunter.txt',\n",
       " 'data_war/Seekers - Erin Hunter.txt',\n",
       " 'data_war/Starlight - Erin Hunter.txt',\n",
       " 'data_war/Sunrise - Erin Hunter.txt',\n",
       " 'data_war/Sunset - Erin Hunter.txt',\n",
       " 'data_war/The Darkest Hour - Erin Hunter.txt',\n",
       " 'data_war/The Forgotten Warrior - Erin Hunter.txt',\n",
       " 'data_war/The Fourth Apprentice - Erin Hunter.txt',\n",
       " 'data_war/The Sight - Erin Hunter.txt',\n",
       " 'data_war/Twilight - Erin Hunter.txt',\n",
       " 'data_war/Warriors Field Guide - Erin Hunter.txt',\n",
       " \"data_war/Warriors Hollyleaf's Story - Erin Hunter.txt\",\n",
       " \"data_war/Warriors Super Edition_ Crookedstar's Prom - Erin Hunter.txt\",\n",
       " \"data_war/Warriors Super Edition_ SkyClan's Destiny - Erin Hunter.txt\",\n",
       " 'data_war/Warriors_ Cats of the Clans - Erin Hunter.txt',\n",
       " 'data_war/Warriors_ Code of the Clans - Erin Hunter.txt',\n",
       " 'data_war/Warriors_ Omen of the Stars #4_ Sign of th - Erin Hunter.txt',\n",
       " 'data_war/Warriors_ Omen of the Stars #6_ The Last H - Erin Hunter.txt']"
      ]
     },
     "execution_count": 4,
     "metadata": {},
     "output_type": "execute_result"
    }
   ],
   "source": [
    "#get the book filenames\n",
    "book_filenames = sorted(glob.glob(\"data_war/*.txt\"))\n",
    "book_filenames"
   ]
  },
  {
   "cell_type": "code",
   "execution_count": 5,
   "metadata": {
    "collapsed": false
   },
   "outputs": [
    {
     "name": "stdout",
     "output_type": "stream",
     "text": [
      "Reading 'data_war/A Dangerous Path - Erin Hunter.txt'...\n",
      "Corpus in now 462754 characters long\n",
      "\n",
      "Reading 'data_war/Bluestar's Prophecy - Erin Hunter.txt'...\n",
      "Corpus in now 1137899 characters long\n",
      "\n",
      "Reading 'data_war/Dark River - Erin Hunter.txt'...\n",
      "Corpus in now 1583229 characters long\n",
      "\n",
      "Reading 'data_war/Dawn - Erin Hunter.txt'...\n",
      "Corpus in now 2052737 characters long\n",
      "\n",
      "Reading 'data_war/Eclipse - Erin Hunter.txt'...\n",
      "Corpus in now 2492331 characters long\n",
      "\n",
      "Reading 'data_war/Fading Echoes - Erin Hunter.txt'...\n",
      "Corpus in now 2958458 characters long\n",
      "\n",
      "Reading 'data_war/Fire and Ice - Erin Hunter.txt'...\n",
      "Corpus in now 3424214 characters long\n",
      "\n",
      "Reading 'data_war/Fire in the Sky - Erin Hunter.txt'...\n",
      "Corpus in now 3780524 characters long\n",
      "\n",
      "Reading 'data_war/Forest of Secrets - Erin Hunter.txt'...\n",
      "Corpus in now 4242279 characters long\n",
      "\n",
      "Reading 'data_war/Into the Wild - Erin Hunter.txt'...\n",
      "Corpus in now 4641868 characters long\n",
      "\n",
      "Reading 'data_war/Long Shadows - Erin Hunter.txt'...\n",
      "Corpus in now 5107046 characters long\n",
      "\n",
      "Reading 'data_war/Midnight - Erin Hunter.txt'...\n",
      "Corpus in now 5556979 characters long\n",
      "\n",
      "Reading 'data_war/Moonrise - Erin Hunter.txt'...\n",
      "Corpus in now 5976354 characters long\n",
      "\n",
      "Reading 'data_war/Night Whispers - Erin Hunter.txt'...\n",
      "Corpus in now 6425928 characters long\n",
      "\n",
      "Reading 'data_war/Outcast - Erin Hunter.txt'...\n",
      "Corpus in now 6882608 characters long\n",
      "\n",
      "Reading 'data_war/Rising Storm - Erin Hunter.txt'...\n",
      "Corpus in now 7345064 characters long\n",
      "\n",
      "Reading 'data_war/Seekers #2_ Great Bear Lake - Erin Hunter.txt'...\n",
      "Corpus in now 7766963 characters long\n",
      "\n",
      "Reading 'data_war/Seekers #3_ Smoke Mountain - Erin Hunter.txt'...\n",
      "Corpus in now 8130002 characters long\n",
      "\n",
      "Reading 'data_war/Seekers - Erin Hunter.txt'...\n",
      "Corpus in now 8557922 characters long\n",
      "\n",
      "Reading 'data_war/Starlight - Erin Hunter.txt'...\n",
      "Corpus in now 9028637 characters long\n",
      "\n",
      "Reading 'data_war/Sunrise - Erin Hunter.txt'...\n",
      "Corpus in now 9481860 characters long\n",
      "\n",
      "Reading 'data_war/Sunset - Erin Hunter.txt'...\n",
      "Corpus in now 9927044 characters long\n",
      "\n",
      "Reading 'data_war/The Darkest Hour - Erin Hunter.txt'...\n",
      "Corpus in now 10392858 characters long\n",
      "\n",
      "Reading 'data_war/The Forgotten Warrior - Erin Hunter.txt'...\n",
      "Corpus in now 10874072 characters long\n",
      "\n",
      "Reading 'data_war/The Fourth Apprentice - Erin Hunter.txt'...\n",
      "Corpus in now 11350461 characters long\n",
      "\n",
      "Reading 'data_war/The Sight - Erin Hunter.txt'...\n",
      "Corpus in now 11848780 characters long\n",
      "\n",
      "Reading 'data_war/Twilight - Erin Hunter.txt'...\n",
      "Corpus in now 12312728 characters long\n",
      "\n",
      "Reading 'data_war/Warriors Field Guide - Erin Hunter.txt'...\n",
      "Corpus in now 12504985 characters long\n",
      "\n",
      "Reading 'data_war/Warriors Hollyleaf's Story - Erin Hunter.txt'...\n",
      "Corpus in now 12646020 characters long\n",
      "\n",
      "Reading 'data_war/Warriors Super Edition_ Crookedstar's Prom - Erin Hunter.txt'...\n",
      "Corpus in now 13290197 characters long\n",
      "\n",
      "Reading 'data_war/Warriors Super Edition_ SkyClan's Destiny - Erin Hunter.txt'...\n",
      "Corpus in now 13976677 characters long\n",
      "\n",
      "Reading 'data_war/Warriors_ Cats of the Clans - Erin Hunter.txt'...\n",
      "Corpus in now 14053280 characters long\n",
      "\n",
      "Reading 'data_war/Warriors_ Code of the Clans - Erin Hunter.txt'...\n",
      "Corpus in now 14282326 characters long\n",
      "\n",
      "Reading 'data_war/Warriors_ Omen of the Stars #4_ Sign of th - Erin Hunter.txt'...\n",
      "Corpus in now 14703072 characters long\n",
      "\n",
      "Reading 'data_war/Warriors_ Omen of the Stars #6_ The Last H - Erin Hunter.txt'...\n",
      "Corpus in now 15199401 characters long\n",
      "\n"
     ]
    }
   ],
   "source": [
    "corpus_raw = u\"\"\n",
    "\n",
    "for book_filename in book_filenames:\n",
    "    print(\"Reading '{0}'...\".format(book_filename))\n",
    "    with codecs.open(book_filename, \"r\", \"utf-8\") as book_file:\n",
    "        corpus_raw += book_file.read()\n",
    "    print(\"Corpus in now {0} characters long\".format(len(corpus_raw)))\n",
    "    print()"
   ]
  },
  {
   "cell_type": "code",
   "execution_count": 6,
   "metadata": {
    "collapsed": true
   },
   "outputs": [],
   "source": [
    "tokenizer = nltk.data.load('tokenizers/punkt/english.pickle')"
   ]
  },
  {
   "cell_type": "code",
   "execution_count": 7,
   "metadata": {
    "collapsed": true
   },
   "outputs": [],
   "source": [
    "raw_sentences = tokenizer.tokenize(corpus_raw)"
   ]
  },
  {
   "cell_type": "code",
   "execution_count": 8,
   "metadata": {
    "collapsed": true
   },
   "outputs": [],
   "source": [
    "def sentence_to_wordlist(raw):\n",
    "    clean = re.sub(\"[^a-zA-Z]\",\" \", raw)\n",
    "    words = clean.split()\n",
    "    return words\n",
    "#returns list of words, removes puncutation and hyphens"
   ]
  },
  {
   "cell_type": "code",
   "execution_count": 9,
   "metadata": {
    "collapsed": true
   },
   "outputs": [],
   "source": [
    "# sentence where each word is tokenized\n",
    "sentences = []\n",
    "for raw_sentence in raw_sentences:\n",
    "    if len(raw_sentence) > 0:\n",
    "        sentences.append(sentence_to_wordlist(raw_sentence))"
   ]
  },
  {
   "cell_type": "code",
   "execution_count": 10,
   "metadata": {
    "collapsed": false
   },
   "outputs": [
    {
     "name": "stdout",
     "output_type": "stream",
     "text": [
      "CHAPTER 18\n",
      "\n",
      "As Fireheart wearily pushed his way through the entrance to…\n",
      "\n",
      "CHAPTER 19\n",
      "\n",
      "Next morning, Fireheart watched the dawn patrol leave before going…\n",
      "\n",
      "CHAPTER 20\n",
      "\n",
      "“Will she live?” Fireheart asked anxiously.\n",
      "[u'CHAPTER', u'As', u'Fireheart', u'wearily', u'pushed', u'his', u'way', u'through', u'the', u'entrance', u'to', u'CHAPTER', u'Next', u'morning', u'Fireheart', u'watched', u'the', u'dawn', u'patrol', u'leave', u'before', u'going', u'CHAPTER', u'Will', u'she', u'live', u'Fireheart', u'asked', u'anxiously']\n"
     ]
    }
   ],
   "source": [
    "print(raw_sentences[5])\n",
    "print(sentence_to_wordlist(raw_sentences[5]))"
   ]
  },
  {
   "cell_type": "code",
   "execution_count": 11,
   "metadata": {
    "collapsed": false
   },
   "outputs": [
    {
     "name": "stdout",
     "output_type": "stream",
     "text": [
      "The book corpus contains 2,755,537 tokens\n"
     ]
    }
   ],
   "source": [
    "token_count = sum([len(sentence) for sentence in sentences])\n",
    "print(\"The book corpus contains {0:,} tokens\".format(token_count))"
   ]
  },
  {
   "cell_type": "markdown",
   "metadata": {},
   "source": [
    "# Train Word 2 Vec"
   ]
  },
  {
   "cell_type": "code",
   "execution_count": 12,
   "metadata": {
    "collapsed": true
   },
   "outputs": [],
   "source": [
    "# Step 2 - build the models\n",
    "# 3 tasks vectors help with\n",
    "# Distance, Similarity, Ranking\n",
    "\n",
    "\n",
    "# define hyperparameters\n",
    "num_features = 300 # more features = more expensive to train, but more accurate\n",
    "min_word_count = 3\n",
    "num_workers = multiprocessing.cpu_count() # more workers = faster training\n",
    "context_size = 7\n",
    "\n",
    "# Downsample setting for frequent words.\n",
    "# between 0 and 1e-5 \n",
    "# how often to use\n",
    "downsampling = 1e-3\n",
    "\n",
    "# Seed for random number generator\n",
    "seed = 42"
   ]
  },
  {
   "cell_type": "code",
   "execution_count": 13,
   "metadata": {
    "collapsed": true
   },
   "outputs": [],
   "source": [
    "warriors2vec = w2v.Word2Vec(\n",
    "    sg = 1,\n",
    "    seed = seed,\n",
    "    workers = num_workers,\n",
    "    size = num_features,\n",
    "    min_count = min_word_count,\n",
    "    window = context_size,\n",
    "    sample = downsampling,\n",
    ")"
   ]
  },
  {
   "cell_type": "code",
   "execution_count": 14,
   "metadata": {
    "collapsed": true
   },
   "outputs": [],
   "source": [
    "warriors2vec.build_vocab(sentences)"
   ]
  },
  {
   "cell_type": "code",
   "execution_count": 15,
   "metadata": {
    "collapsed": false
   },
   "outputs": [
    {
     "name": "stdout",
     "output_type": "stream",
     "text": [
      "Word2Vec vocabulary length: 12490\n"
     ]
    }
   ],
   "source": [
    "print(\"Word2Vec vocabulary length:\", len(warriors2vec.wv.vocab))"
   ]
  },
  {
   "cell_type": "code",
   "execution_count": 16,
   "metadata": {
    "collapsed": false
   },
   "outputs": [
    {
     "data": {
      "text/plain": [
       "10906774"
      ]
     },
     "execution_count": 16,
     "metadata": {},
     "output_type": "execute_result"
    }
   ],
   "source": [
    "warriors2vec.train(sentences)"
   ]
  },
  {
   "cell_type": "markdown",
   "metadata": {},
   "source": [
    "## Save the model to file"
   ]
  },
  {
   "cell_type": "code",
   "execution_count": 17,
   "metadata": {
    "collapsed": true
   },
   "outputs": [],
   "source": [
    "# save the model\n",
    "if not os.path.exists(\"trained\"):\n",
    "    os.makedirs(\"trained\")"
   ]
  },
  {
   "cell_type": "code",
   "execution_count": 18,
   "metadata": {
    "collapsed": true
   },
   "outputs": [],
   "source": [
    "warriors2vec.save(os.path.join(\"trained\", \"warriors2vec.w2v\"))"
   ]
  },
  {
   "cell_type": "markdown",
   "metadata": {},
   "source": [
    "## Load the trained model - Start here"
   ]
  },
  {
   "cell_type": "code",
   "execution_count": 3,
   "metadata": {
    "collapsed": true
   },
   "outputs": [],
   "source": [
    "# load the model - in case this is re-run\n",
    "warriors2vec = w2v.Word2Vec.load(os.path.join(\"trained\", \"warriors2vec.w2v\"))"
   ]
  },
  {
   "cell_type": "markdown",
   "metadata": {
    "collapsed": true
   },
   "source": [
    "## Explore semantic similarities between book characters"
   ]
  },
  {
   "cell_type": "code",
   "execution_count": 4,
   "metadata": {
    "collapsed": false
   },
   "outputs": [
    {
     "data": {
      "text/plain": [
       "[(u'Sunstar', 0.569300651550293),\n",
       " (u'Sharpclaw', 0.5651351809501648),\n",
       " (u'Sunfall', 0.5621132850646973),\n",
       " (u'Bluestar', 0.5600012540817261),\n",
       " (u'Goldenstar', 0.5596264600753784),\n",
       " (u'Pinestar', 0.5545787215232849),\n",
       " (u'Onestar', 0.5454298257827759),\n",
       " (u'Stoneteller', 0.5450897216796875),\n",
       " (u'Leopardstar', 0.5334157943725586),\n",
       " (u'Squirrelflight', 0.5309216976165771)]"
      ]
     },
     "execution_count": 4,
     "metadata": {},
     "output_type": "execute_result"
    }
   ],
   "source": [
    "warriors2vec.most_similar(\"Firestar\")"
   ]
  },
  {
   "cell_type": "code",
   "execution_count": 5,
   "metadata": {
    "collapsed": false
   },
   "outputs": [
    {
     "data": {
      "text/plain": [
       "[(u'Sandstorm', 0.6043769121170044),\n",
       " (u'Tigerclaw', 0.6010367274284363),\n",
       " (u'Leopardfur', 0.5893921256065369),\n",
       " (u'Brackenfur', 0.5840722918510437),\n",
       " (u'Dustpelt', 0.5814228057861328),\n",
       " (u'Onewhisker', 0.5764490365982056),\n",
       " (u'Whitestorm', 0.5743676424026489),\n",
       " (u'Ravenpaw', 0.5655602216720581),\n",
       " (u'Stormfur', 0.5650084018707275),\n",
       " (u'Mistyfoot', 0.5626653432846069)]"
      ]
     },
     "execution_count": 5,
     "metadata": {},
     "output_type": "execute_result"
    }
   ],
   "source": [
    "warriors2vec.most_similar(\"Graystripe\")"
   ]
  },
  {
   "cell_type": "code",
   "execution_count": 6,
   "metadata": {
    "collapsed": false
   },
   "outputs": [
    {
     "data": {
      "text/plain": [
       "[(u'monsters', 0.6408638954162598),\n",
       " (u'dogs', 0.6266584396362305),\n",
       " (u'badgers', 0.5993587970733643),\n",
       " (u'Upwalkers', 0.5861537456512451),\n",
       " (u'Twoleg', 0.5844410061836243),\n",
       " (u'sheep', 0.5735294818878174),\n",
       " (u'firebeasts', 0.5730717182159424),\n",
       " (u'predators', 0.5700822472572327),\n",
       " (u'Badgers', 0.5696913003921509),\n",
       " (u'faces', 0.5696393251419067)]"
      ]
     },
     "execution_count": 6,
     "metadata": {},
     "output_type": "execute_result"
    }
   ],
   "source": [
    "warriors2vec.most_similar(\"Twolegs\")"
   ]
  },
  {
   "cell_type": "code",
   "execution_count": 7,
   "metadata": {
    "collapsed": false
   },
   "outputs": [
    {
     "data": {
      "text/plain": [
       "[(u'tartly', 0.8788039684295654),\n",
       " (u'peaceably', 0.8757885694503784),\n",
       " (u'meekly', 0.8730642795562744),\n",
       " (u'sobbed', 0.8711094856262207),\n",
       " (u'earnestly', 0.8709672689437866),\n",
       " (u'helpfully', 0.8688185811042786),\n",
       " (u'Ignore', 0.8685449361801147),\n",
       " (u'sourly', 0.8636438846588135),\n",
       " (u'sulkily', 0.863560676574707),\n",
       " (u'evasively', 0.8629686832427979)]"
      ]
     },
     "execution_count": 7,
     "metadata": {},
     "output_type": "execute_result"
    }
   ],
   "source": [
    "warriors2vec.most_similar(\"mousebrain\")"
   ]
  },
  {
   "cell_type": "code",
   "execution_count": 8,
   "metadata": {
    "collapsed": true
   },
   "outputs": [],
   "source": [
    "def nearest_similarity_cosmul(start1, end1, end2):\n",
    "    similarities = warriors2vec.most_similar_cosmul(\n",
    "        positive = [end2, start1],\n",
    "        negative = [end1]\n",
    "    )\n",
    "    start2 = similarities[0][0]\n",
    "    print(\"{start1} is related to {end1}, as {start2} is related to {end2}\".format(**locals()))\n",
    "    return start2"
   ]
  },
  {
   "cell_type": "code",
   "execution_count": 9,
   "metadata": {
    "collapsed": false
   },
   "outputs": [
    {
     "name": "stdout",
     "output_type": "stream",
     "text": [
      "Rusty is related to Firestar, as guiltily is related to Graystripe\n",
      "Thunderclan is related to Bluestar, as Traitors is related to Graystripe\n"
     ]
    },
    {
     "data": {
      "text/plain": [
       "u'Traitors'"
      ]
     },
     "execution_count": 9,
     "metadata": {},
     "output_type": "execute_result"
    }
   ],
   "source": [
    "nearest_similarity_cosmul(\"Rusty\", \"Firestar\", \"Graystripe\")\n",
    "#nearest_similarity_cosmul(\"Thunderclan\", \"Riverclan\", \"Firestar\")\n",
    "nearest_similarity_cosmul(\"Thunderclan\", \"Bluestar\", \"Graystripe\")"
   ]
  },
  {
   "cell_type": "code",
   "execution_count": 10,
   "metadata": {
    "collapsed": false
   },
   "outputs": [
    {
     "data": {
      "text/plain": [
       "[(u'Calling', 0.8825877904891968),\n",
       " (u'Revenge', 0.8794381022453308),\n",
       " (u'Loudbelly', 0.8752279281616211),\n",
       " (u'Lakestorm', 0.8745911121368408),\n",
       " (u'raids', 0.8724934458732605),\n",
       " (u'frequent', 0.8707389235496521),\n",
       " (u'Facing', 0.8685536980628967),\n",
       " (u'joins', 0.8669978380203247),\n",
       " (u'appointment', 0.8662803173065186),\n",
       " (u'messengers', 0.8659096956253052)]"
      ]
     },
     "execution_count": 10,
     "metadata": {},
     "output_type": "execute_result"
    }
   ],
   "source": [
    "warriors2vec.most_similar(\"Vinestar\")"
   ]
  },
  {
   "cell_type": "code",
   "execution_count": 11,
   "metadata": {
    "collapsed": false
   },
   "outputs": [
    {
     "data": {
      "text/plain": [
       "[(u'Firepaw', 0.6736335158348083),\n",
       " (u'mystified', 0.6225589513778687),\n",
       " (u'apologetical', 0.6201215982437134),\n",
       " (u'reappear', 0.6137369871139526),\n",
       " (u'guiltily', 0.6133610010147095),\n",
       " (u'resentfully', 0.6122925281524658),\n",
       " (u'Raincloud', 0.611646294593811),\n",
       " (u'Understand', 0.6109017729759216),\n",
       " (u'Cinderkit', 0.609039306640625),\n",
       " (u'sarcastic', 0.6079747676849365)]"
      ]
     },
     "execution_count": 11,
     "metadata": {},
     "output_type": "execute_result"
    }
   ],
   "source": [
    "warriors2vec.most_similar(\"Rusty\")"
   ]
  },
  {
   "cell_type": "code",
   "execution_count": 12,
   "metadata": {
    "collapsed": false
   },
   "outputs": [
    {
     "data": {
      "text/plain": [
       "[(u'Bumblestripe', 0.6523749828338623),\n",
       " (u'earnestly', 0.6421167850494385),\n",
       " (u'Thrushpelt', 0.6377930641174316),\n",
       " (u'worriedly', 0.6376029849052429),\n",
       " (u'Oakpaw', 0.6358127593994141),\n",
       " (u'Sally', 0.6313471794128418),\n",
       " (u'Sorreltail', 0.6303678154945374),\n",
       " (u'Dapplepaw', 0.6263765096664429),\n",
       " (u'Honeypaw', 0.6238635778427124),\n",
       " (u'Blossomfal', 0.6223466992378235)]"
      ]
     },
     "execution_count": 12,
     "metadata": {},
     "output_type": "execute_result"
    }
   ],
   "source": [
    "warriors2vec.most_similar(\"Cinderheart\")"
   ]
  },
  {
   "cell_type": "code",
   "execution_count": 13,
   "metadata": {
    "collapsed": false
   },
   "outputs": [
    {
     "data": {
      "text/plain": [
       "[(u'Half', 0.8751037120819092),\n",
       " (u'Rising', 0.6436961889266968),\n",
       " (u'Shy', 0.6038526296615601),\n",
       " (u'Feather', 0.5966202616691589),\n",
       " (u'Wing', 0.5944815874099731),\n",
       " (u'Fawn', 0.5932095646858215),\n",
       " (u'ising', 0.588476300239563),\n",
       " (u'Leap', 0.5794602036476135),\n",
       " (u'Fish', 0.5789985656738281),\n",
       " (u'Snowdrop', 0.5766615867614746)]"
      ]
     },
     "execution_count": 13,
     "metadata": {},
     "output_type": "execute_result"
    }
   ],
   "source": [
    "warriors2vec.most_similar(\"Moon\")"
   ]
  },
  {
   "cell_type": "code",
   "execution_count": null,
   "metadata": {
    "collapsed": true
   },
   "outputs": [],
   "source": []
  }
 ],
 "metadata": {
  "kernelspec": {
   "display_name": "Python 2",
   "language": "python",
   "name": "python2"
  },
  "language_info": {
   "codemirror_mode": {
    "name": "ipython",
    "version": 2
   },
   "file_extension": ".py",
   "mimetype": "text/x-python",
   "name": "python",
   "nbconvert_exporter": "python",
   "pygments_lexer": "ipython2",
   "version": "2.7.11"
  }
 },
 "nbformat": 4,
 "nbformat_minor": 0
}
